{
  "nbformat": 4,
  "nbformat_minor": 0,
  "metadata": {
    "colab": {
      "provenance": [],
      "authorship_tag": "ABX9TyOH1hCY9j9MH7nEFHj11ikQ",
      "include_colab_link": true
    },
    "kernelspec": {
      "name": "python3",
      "display_name": "Python 3"
    },
    "language_info": {
      "name": "python"
    }
  },
  "cells": [
    {
      "cell_type": "markdown",
      "metadata": {
        "id": "view-in-github",
        "colab_type": "text"
      },
      "source": [
        "<a href=\"https://colab.research.google.com/github/Adithya-Siddam/19AI405ExpNo3/blob/main/exp_03.ipynb\" target=\"_parent\"><img src=\"https://colab.research.google.com/assets/colab-badge.svg\" alt=\"Open In Colab\"/></a>"
      ]
    },
    {
      "cell_type": "code",
      "execution_count": 9,
      "metadata": {
        "colab": {
          "base_uri": "https://localhost:8080/"
        },
        "id": "CqrCjxEEUa5O",
        "outputId": "e3d1aefa-56ec-470a-ec68-a29aa9611ea2"
      },
      "outputs": [
        {
          "output_type": "stream",
          "name": "stdout",
          "text": [
            "7 9\n",
            "A B\n",
            "A C\n",
            "A F\n",
            "C E\n",
            "C F\n",
            "C D\n",
            "D E\n",
            "D G\n",
            "G F\n",
            "['A', 'B', 'C', 'F', 'E', 'D', 'G']\n"
          ]
        }
      ],
      "source": [
        "\n",
        "from collections import deque\n",
        "from collections import defaultdict\n",
        "\n",
        "def bfs(graph,start,visited,path):\n",
        "    queue = deque()\n",
        "    path.append(start)\n",
        "    queue.append(start)\n",
        "    visited[start] = True\n",
        "    while len(queue) != 0:\n",
        "        tmpnode = queue.popleft()\n",
        "        for neighbour in graph[tmpnode]:\n",
        "            if visited[neighbour] == False:\n",
        "                path.append(neighbour)\n",
        "                queue.append(neighbour)\n",
        "                visited[neighbour] = True\n",
        "    return path\n",
        "\n",
        "graph = defaultdict(list)\n",
        "v,e = map(int,input().split())\n",
        "for i in range(e):\n",
        "    u,v = map(str,input().split())\n",
        "    graph[u].append(v)\n",
        "    graph[v].append(u)\n",
        "\n",
        "start = 'A'\n",
        "path = []\n",
        "visited = defaultdict(bool)\n",
        "traversedpath = bfs(graph,start,visited,path)\n",
        "print(traversedpath)\n"
      ]
    },
    {
      "cell_type": "code",
      "source": [
        "from collections import deque\n",
        "from collections import defaultdict\n",
        "\n",
        "def bfs(graph,start,visited,path):\n",
        "    queue = deque()\n",
        "    path.append(start)\n",
        "    queue.append(start)\n",
        "    visited[start] = True\n",
        "    while len(queue) != 0:\n",
        "        tmpnode = queue.popleft()\n",
        "        for neighbour in graph[tmpnode]:\n",
        "            if visited[neighbour] == False:\n",
        "                path.append(neighbour)\n",
        "                queue.append(neighbour)\n",
        "                visited[neighbour] = True\n",
        "    return path\n",
        "\n",
        "graph = defaultdict(list)\n",
        "v,e = map(int,input().split())\n",
        "for i in range(e):\n",
        "    u,v = map(str,input().split())\n",
        "    graph[u].append(v)\n",
        "    graph[v].append(u)\n",
        "\n",
        "start = '0'\n",
        "path = []\n",
        "visited = defaultdict(bool)\n",
        "traversedpath = bfs(graph,start,visited,path)\n",
        "print(traversedpath)"
      ],
      "metadata": {
        "colab": {
          "base_uri": "https://localhost:8080/"
        },
        "id": "TERMIl5CVnkr",
        "outputId": "936f0c81-dd33-4546-a7a8-4d5c4185c940"
      },
      "execution_count": 6,
      "outputs": [
        {
          "output_type": "stream",
          "name": "stdout",
          "text": [
            "5 6\n",
            "0 1\n",
            "0 2\n",
            "1 2\n",
            "1 3\n",
            "2 4\n",
            "3 4\n",
            "['0', '1', '2', '3', '4']\n"
          ]
        }
      ]
    }
  ]
}